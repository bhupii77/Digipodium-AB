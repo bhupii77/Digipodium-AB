{
 "cells": [
  {
   "cell_type": "code",
   "execution_count": 1,
   "metadata": {},
   "outputs": [
    {
     "name": "stdout",
     "output_type": "stream",
     "text": [
      "1\n",
      "2\n",
      "3\n",
      "4\n",
      "5\n",
      "6\n",
      "7\n",
      "8\n",
      "9\n",
      "10\n"
     ]
    }
   ],
   "source": [
    "# Write a program to print numbers from 1 to 10 using a for loop.\n",
    "\n",
    "for i in range(1,11):\n",
    "    print(i)"
   ]
  },
  {
   "cell_type": "code",
   "execution_count": 2,
   "metadata": {},
   "outputs": [
    {
     "name": "stdout",
     "output_type": "stream",
     "text": [
      "4x1= 4\n",
      "4x2= 8\n",
      "4x3= 12\n",
      "4x4= 16\n",
      "4x5= 20\n",
      "4x6= 24\n",
      "4x7= 28\n",
      "4x8= 32\n",
      "4x9= 36\n",
      "4x10= 40\n"
     ]
    }
   ],
   "source": [
    "#Write a program to print the multiplication table of a given number using a while loop.\n",
    "\n",
    "num = int(input(\"Enter a number :\"))\n",
    "i = 1\n",
    "\n",
    "while i <= 10:\n",
    "    result = i * num\n",
    "    print(f\"{num}x{i}= {result}\")\n",
    "    i +=1\n",
    "\n",
    "    "
   ]
  },
  {
   "cell_type": "code",
   "execution_count": 3,
   "metadata": {},
   "outputs": [
    {
     "name": "stdout",
     "output_type": "stream",
     "text": [
      "the sum of even number from 1 to 100 is 2550\n"
     ]
    }
   ],
   "source": [
    "#Write a program to find the sum of all even numbers between 1 and 100 using a for loop\n",
    "#Write a program to find the sum of all even numbers between 1 and 100 using a for loop.\n",
    "\n",
    "sum = 0\n",
    "for i in range(1,101):\n",
    "    if  i%2 == 0:\n",
    "        sum += i\n",
    "print(f\"the sum of even number from 1 to 100 is {sum}\")\n"
   ]
  },
  {
   "cell_type": "code",
   "execution_count": 1,
   "metadata": {},
   "outputs": [],
   "source": [
    "#Write a program to check if a given number is prime or not using a while loop\n",
    "\n",
    "i = 2 \n",
    "\n",
    "n = int(input(\"Enter a number :\"))\n",
    "prime = True\n",
    "\n",
    "while i < n:\n",
    "    if n%i == 0:\n",
    "        prime = False \n",
    "        i +=1\n",
    "\n",
    "        break\n",
    "if prime :\n",
    "    print (f\"{n} is a prime number\")\n",
    "\n",
    "else:\n",
    "    print(n,\"is not a prime number\")   \n"
   ]
  },
  {
   "cell_type": "code",
   "execution_count": 4,
   "metadata": {},
   "outputs": [
    {
     "ename": "ValueError",
     "evalue": "invalid literal for int() with base 10: ''",
     "output_type": "error",
     "traceback": [
      "\u001b[1;31m---------------------------------------------------------------------------\u001b[0m",
      "\u001b[1;31mValueError\u001b[0m                                Traceback (most recent call last)",
      "\u001b[1;32mc:\\Users\\Bhuperndra Singh\\Documents\\Digipodium AB\\loops_question.ipynb Cell 5\u001b[0m line \u001b[0;36m3\n\u001b[0;32m      <a href='vscode-notebook-cell:/c%3A/Users/Bhuperndra%20Singh/Documents/Digipodium%20AB/loops_question.ipynb#W5sZmlsZQ%3D%3D?line=0'>1</a>\u001b[0m \u001b[39m#Write a program to check if a given number is prime or not using a while loop\u001b[39;00m\n\u001b[1;32m----> <a href='vscode-notebook-cell:/c%3A/Users/Bhuperndra%20Singh/Documents/Digipodium%20AB/loops_question.ipynb#W5sZmlsZQ%3D%3D?line=2'>3</a>\u001b[0m num \u001b[39m=\u001b[39m \u001b[39mint\u001b[39m(\u001b[39minput\u001b[39m (\u001b[39m\"\u001b[39m\u001b[39mEnter a number :\u001b[39m\u001b[39m\"\u001b[39m))\n\u001b[0;32m      <a href='vscode-notebook-cell:/c%3A/Users/Bhuperndra%20Singh/Documents/Digipodium%20AB/loops_question.ipynb#W5sZmlsZQ%3D%3D?line=4'>5</a>\u001b[0m i \u001b[39m=\u001b[39m \u001b[39m2\u001b[39m\n\u001b[0;32m      <a href='vscode-notebook-cell:/c%3A/Users/Bhuperndra%20Singh/Documents/Digipodium%20AB/loops_question.ipynb#W5sZmlsZQ%3D%3D?line=5'>6</a>\u001b[0m a \u001b[39m=\u001b[39m \u001b[39m0\u001b[39m\n",
      "\u001b[1;31mValueError\u001b[0m: invalid literal for int() with base 10: ''"
     ]
    }
   ],
   "source": [
    "#Write a program to check if a given number is prime or not using a while loop\n",
    "\n",
    "num = int(input (\"Enter a number :\"))\n",
    "\n",
    "i = 2\n",
    "a = 0\n",
    "\n",
    "while i < num :\n",
    "    if num %i == 0 :\n",
    "         a = 1\n",
    "    print(f\"{num} is a prime number\")\n",
    "    i += 1\n",
    "         \n",
    "if a == 0 :\n",
    "     print(num, \"is not a prime number \")    \n",
    "\n",
    "\n",
    "\n"
   ]
  },
  {
   "cell_type": "code",
   "execution_count": 1,
   "metadata": {},
   "outputs": [
    {
     "name": "stdout",
     "output_type": "stream",
     "text": [
      "5 is NOT a prime number!\n",
      "5 is NOT a prime number!\n",
      "5 is NOT a prime number!\n",
      "5 is a prime number!\n"
     ]
    }
   ],
   "source": [
    "num = int(input('Please enter a number:'))\n",
    "i = 2\n",
    "flag = 0\n",
    "while i<num:\n",
    "    if num%i == 0:\n",
    "        flag = 1\n",
    "    print (num,\"is NOT a prime number!\")\n",
    "    i = i + 1\n",
    "if flag == 0:\n",
    "    print (num,\"is a prime number!\")"
   ]
  },
  {
   "cell_type": "code",
   "execution_count": 1,
   "metadata": {},
   "outputs": [
    {
     "name": "stdout",
     "output_type": "stream",
     "text": [
      "11 is a prime number\n"
     ]
    }
   ],
   "source": [
    "#Write a program to check if a given number is prime or not using a while loop\n",
    "num = 11\n",
    "# If given number is greater than 1\n",
    "if num > 1:\n",
    "    # Iterate from 2 to n / 2\n",
    "    for i in range(2, int(num/2)+1):\n",
    "        # If num is divisible by any number between\n",
    "        # 2 and n / 2, it is not prime\n",
    "        if (num % i) == 0:\n",
    "            print(num, \"is not a prime number\")\n",
    "            break\n",
    "    else:\n",
    "        print(num, \"is a prime number\")\n",
    "else:\n",
    "    print(num, \"is not a prime number\")"
   ]
  },
  {
   "cell_type": "code",
   "execution_count": 3,
   "metadata": {},
   "outputs": [
    {
     "ename": "TypeError",
     "evalue": "'>' not supported between instances of 'str' and 'int'",
     "output_type": "error",
     "traceback": [
      "\u001b[1;31m---------------------------------------------------------------------------\u001b[0m",
      "\u001b[1;31mTypeError\u001b[0m                                 Traceback (most recent call last)",
      "\u001b[1;32mc:\\Users\\Bhuperndra Singh\\Documents\\Digipodium AB\\loops_question.ipynb Cell 8\u001b[0m line \u001b[0;36m4\n\u001b[0;32m      <a href='vscode-notebook-cell:/c%3A/Users/Bhuperndra%20Singh/Documents/Digipodium%20AB/loops_question.ipynb#X10sZmlsZQ%3D%3D?line=0'>1</a>\u001b[0m \u001b[39m#Write a program to check if a given number is prime or not using a while loop\u001b[39;00m\n\u001b[0;32m      <a href='vscode-notebook-cell:/c%3A/Users/Bhuperndra%20Singh/Documents/Digipodium%20AB/loops_question.ipynb#X10sZmlsZQ%3D%3D?line=2'>3</a>\u001b[0m num \u001b[39m=\u001b[39m (\u001b[39m\"\u001b[39m\u001b[39mEnter a number :\u001b[39m\u001b[39m\"\u001b[39m)\n\u001b[1;32m----> <a href='vscode-notebook-cell:/c%3A/Users/Bhuperndra%20Singh/Documents/Digipodium%20AB/loops_question.ipynb#X10sZmlsZQ%3D%3D?line=3'>4</a>\u001b[0m \u001b[39mif\u001b[39;00m num \u001b[39m>\u001b[39m \u001b[39m1\u001b[39m :\n\u001b[0;32m      <a href='vscode-notebook-cell:/c%3A/Users/Bhuperndra%20Singh/Documents/Digipodium%20AB/loops_question.ipynb#X10sZmlsZQ%3D%3D?line=4'>5</a>\u001b[0m     \u001b[39mfor\u001b[39;00m i \u001b[39min\u001b[39;00m \u001b[39mrange\u001b[39m(\u001b[39m2\u001b[39m,\u001b[39mint\u001b[39m(num\u001b[39m/\u001b[39m\u001b[39m2\u001b[39m)):\n\u001b[0;32m      <a href='vscode-notebook-cell:/c%3A/Users/Bhuperndra%20Singh/Documents/Digipodium%20AB/loops_question.ipynb#X10sZmlsZQ%3D%3D?line=5'>6</a>\u001b[0m         \u001b[39mif\u001b[39;00m (num \u001b[39m%\u001b[39m i) \u001b[39m==\u001b[39m \u001b[39m0\u001b[39m:\n",
      "\u001b[1;31mTypeError\u001b[0m: '>' not supported between instances of 'str' and 'int'"
     ]
    }
   ],
   "source": [
    "#Write a program to check if a given number is prime or not using a while loop\n",
    "\n",
    "num = (\"Enter a number :\")\n",
    "if num > 1 :\n",
    "    for i in range(2,int(num/2)):\n",
    "        if (num % i) == 0:\n",
    "            print(num, \"is not a prime number \")\n",
    "            break\n",
    "    else:\n",
    "        print(num,\"is a prime number\")\n",
    "else:\n",
    "    print(num,\"is not a prime numbar\")            "
   ]
  },
  {
   "cell_type": "code",
   "execution_count": null,
   "metadata": {},
   "outputs": [],
   "source": [
    "#Write a program to print the Fibonacci series up to a given limit using a while loop.\n",
    "\n",
    "i = 1 \n",
    "\n",
    "while i <= 100:\n",
    "    if i - i"
   ]
  },
  {
   "cell_type": "code",
   "execution_count": 4,
   "metadata": {},
   "outputs": [
    {
     "name": "stdout",
     "output_type": "stream",
     "text": [
      "the largest among x series is 98\n"
     ]
    }
   ],
   "source": [
    "#Write a program to find the largest element in an array using a for loop.\n",
    "\n",
    "x = [45,67,78,34,98,54,85]\n",
    "\n",
    "max_element = x[0]\n",
    "\n",
    "for i in range (len(x)):\n",
    "    if x[i]> max_element :\n",
    "        max_element = x[i]\n",
    "    \n",
    "print(f\"the largest among x series is {max_element}\")"
   ]
  },
  {
   "cell_type": "code",
   "execution_count": 8,
   "metadata": {},
   "outputs": [
    {
     "name": "stdout",
     "output_type": "stream",
     "text": [
      "reverse string : ti od lliw i\n"
     ]
    }
   ],
   "source": [
    "#Write a program to reverse a given string using a while loop.\n",
    "\n",
    "x = input(\"enter a string :\")\n",
    "\n",
    "y_reverse_string = \"\"\n",
    "\n",
    "index = len(x)- 1\n",
    "\n",
    "while index >= 0:\n",
    "    y_reverse_string += x[index]\n",
    "    index -= 1\n",
    "\n",
    "print(\"reverse string :\" , y_reverse_string)\n",
    "\n"
   ]
  },
  {
   "cell_type": "code",
   "execution_count": null,
   "metadata": {},
   "outputs": [],
   "source": []
  }
 ],
 "metadata": {
  "kernelspec": {
   "display_name": "base",
   "language": "python",
   "name": "python3"
  },
  "language_info": {
   "codemirror_mode": {
    "name": "ipython",
    "version": 3
   },
   "file_extension": ".py",
   "mimetype": "text/x-python",
   "name": "python",
   "nbconvert_exporter": "python",
   "pygments_lexer": "ipython3",
   "version": "3.11.4"
  }
 },
 "nbformat": 4,
 "nbformat_minor": 2
}

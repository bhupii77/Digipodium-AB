{
 "cells": [
  {
   "cell_type": "markdown",
   "metadata": {},
   "source": [
    "Conditions \n",
    "\n",
    "indentation (PeP8)\n",
    "\n",
    "indentation is the way to tell python that block of code is related to a control structure. This is done by indenting the code with a tab or 4 spaces.The indentation is removed when the block ends. \n",
    "\n"
   ]
  },
  {
   "cell_type": "markdown",
   "metadata": {},
   "source": [
    "```\n",
    " if condition:\n",
    "    #code \n",
    "\n",
    "else :\n",
    "    #code \n",
    "\n",
    "elif condition :\n",
    "    #code\n",
    "\n",
    "match value :\n",
    "    case condition:\n",
    "        #code\n",
    "\n",
    "for expression :\n",
    "    #code\n",
    "\n",
    "while condition :\n",
    "    #code  \n",
    "\n",
    "try :\n",
    "    #code\n",
    "                   \n",
    "except:\n",
    "    #code\n",
    "\n",
    "finally:\n",
    "    #code            \n",
    "\n",
    "with expression:\n",
    "    #code\n",
    "\n",
    "def function :\n",
    "    #code \n",
    "\n",
    "class Classname :```\n",
    "    #code \n"
   ]
  },
  {
   "cell_type": "code",
   "execution_count": 5,
   "metadata": {},
   "outputs": [
    {
     "name": "stdout",
     "output_type": "stream",
     "text": [
      "x is greater than 3\n"
     ]
    }
   ],
   "source": [
    "x = 10 \n",
    "if x > 3:\n",
    "    print('x is greater than 3')\n",
    "\n"
   ]
  },
  {
   "cell_type": "code",
   "execution_count": 6,
   "metadata": {},
   "outputs": [],
   "source": [
    "if x < x -3 :\n",
    "    print('x is less than x -3')"
   ]
  },
  {
   "cell_type": "code",
   "execution_count": 7,
   "metadata": {},
   "outputs": [
    {
     "name": "stdout",
     "output_type": "stream",
     "text": [
      "x is eqaul to 10\n",
      "x is greater than 10\n"
     ]
    }
   ],
   "source": [
    "if x==5:\n",
    "    print('x is equal to 5')\n",
    "if x ==10:\n",
    "    print('x is eqaul to 10')\n",
    "if x>= 10:\n",
    "    print('x is greater than 10')\n",
    "\n"
   ]
  },
  {
   "cell_type": "code",
   "execution_count": 8,
   "metadata": {},
   "outputs": [
    {
     "name": "stdout",
     "output_type": "stream",
     "text": [
      "lo is in x\n"
     ]
    }
   ],
   "source": [
    "x = 'hello'\n",
    "if 'lo'in x :\n",
    "    print('lo is in x')\n",
    "else:\n",
    "    print('lo is not found ')    "
   ]
  },
  {
   "cell_type": "code",
   "execution_count": 6,
   "metadata": {},
   "outputs": [
    {
     "name": "stdout",
     "output_type": "stream",
     "text": [
      "Take your medicine\n"
     ]
    }
   ],
   "source": [
    "had_lunch= input(\"Did you have lunch? (y/n): \")\n",
    "had_medicines =input (\"Did you have taken medicine?(y/n):\")\n",
    "if had_lunch == 'y':\n",
    "    if had_medicines == 'y':\n",
    "     print('very good')\n",
    "\n",
    "    else :\n",
    "     print('Take your medicine')\n",
    "else : \n",
    "    print('Take your lunch')    "
   ]
  },
  {
   "cell_type": "code",
   "execution_count": 7,
   "metadata": {},
   "outputs": [
    {
     "name": "stdout",
     "output_type": "stream",
     "text": [
      "Take your medicines \n"
     ]
    }
   ],
   "source": [
    "#siya code \n",
    "\n",
    "had_lunch=input(\"Did you have lunch? (y/n): \")\n",
    "had_medicine = input(\"Did you take your medicines? (y/n) : \")\n",
    "if had_lunch== 'y':\n",
    "    if had_medicine == 'y':\n",
    "        print('Very Good')\n",
    "    else:\n",
    "        print('Take your medicines ')    \n",
    "else:\n",
    "    print('Have your lunch or die')\n"
   ]
  },
  {
   "cell_type": "code",
   "execution_count": 8,
   "metadata": {},
   "outputs": [
    {
     "name": "stdout",
     "output_type": "stream",
     "text": [
      "username is empty\n"
     ]
    }
   ],
   "source": [
    "username = input ('enter username')\n",
    "password = input ('enter password')\n",
    "if username :\n",
    "    if password :\n",
    "        if username == 'alex' and password == 'alexa' :\n",
    "            print ('login sucessful✅')\n",
    "        else:\n",
    "            print('login failed❌')   \n",
    "    else :\n",
    "        print('password is empty')\n",
    "else :\n",
    "    print( 'username is empty')                   "
   ]
  },
  {
   "cell_type": "code",
   "execution_count": 1,
   "metadata": {},
   "outputs": [
    {
     "ename": "ValueError",
     "evalue": "could not convert string to float: ''",
     "output_type": "error",
     "traceback": [
      "\u001b[1;31m---------------------------------------------------------------------------\u001b[0m",
      "\u001b[1;31mValueError\u001b[0m                                Traceback (most recent call last)",
      "\u001b[1;32mc:\\Users\\Bhuperndra Singh\\Documents\\Digipodium AB\\conditions.ipynb Cell 10\u001b[0m line \u001b[0;36m1\n\u001b[1;32m----> <a href='vscode-notebook-cell:/c%3A/Users/Bhuperndra%20Singh/Documents/Digipodium%20AB/conditions.ipynb#X12sZmlsZQ%3D%3D?line=0'>1</a>\u001b[0m weight \u001b[39m=\u001b[39m \u001b[39mfloat\u001b[39m(\u001b[39minput\u001b[39m(\u001b[39m'\u001b[39m\u001b[39mhow much 🍎 do you want (kg)\u001b[39m\u001b[39m'\u001b[39m))\n\u001b[0;32m      <a href='vscode-notebook-cell:/c%3A/Users/Bhuperndra%20Singh/Documents/Digipodium%20AB/conditions.ipynb#X12sZmlsZQ%3D%3D?line=1'>2</a>\u001b[0m \u001b[39mif\u001b[39;00m weight \u001b[39m==\u001b[39m \u001b[39m1\u001b[39m: price \u001b[39m=\u001b[39m \u001b[39m110\u001b[39m\n\u001b[0;32m      <a href='vscode-notebook-cell:/c%3A/Users/Bhuperndra%20Singh/Documents/Digipodium%20AB/conditions.ipynb#X12sZmlsZQ%3D%3D?line=2'>3</a>\u001b[0m \u001b[39melif\u001b[39;00m weight \u001b[39m>\u001b[39m\u001b[39m=\u001b[39m \u001b[39m2\u001b[39m \u001b[39mand\u001b[39;00m weight \u001b[39m<\u001b[39m\u001b[39m=\u001b[39m \u001b[39m5\u001b[39m: price \u001b[39m=\u001b[39m \u001b[39m100\u001b[39m \u001b[39m*\u001b[39m weight\n",
      "\u001b[1;31mValueError\u001b[0m: could not convert string to float: ''"
     ]
    }
   ],
   "source": [
    "weight = float(input('how much 🍎 do you want (kg)'))\n",
    "if weight == 1: price = 110\n",
    "elif weight >= 2 and weight <= 5: price = 100 * weight\n",
    "elif weight >= 6: price = 80 * weight\n",
    "print(f' you have to pay {price} rupees')     "
   ]
  },
  {
   "cell_type": "code",
   "execution_count": 10,
   "metadata": {},
   "outputs": [
    {
     "name": "stdout",
     "output_type": "stream",
     "text": [
      "sunday is my day off\n"
     ]
    }
   ],
   "source": [
    "# match condition check\n",
    "\n",
    "offday = input ('Enter your offday')\n",
    "match (offday):\n",
    "    case 'sunday':\n",
    "        print ('sunday is my day off')\n",
    "    case 'wednesday':\n",
    "        print ('wednesday is my day off') \n",
    "    case 'Saturday':\n",
    "        print('Saturday is my day off') \n",
    "    case 'thursday':\n",
    "        print('thursday is my day off')\n",
    "    case 'Friday':\n",
    "        print('Friday is my day off')\n",
    "    case 'tuesday':\n",
    "        print('tuesday is my day off')\n",
    "    case 'monday':\n",
    "        print('monday is my day off') \n",
    "\n",
    "        \n"
   ]
  },
  {
   "cell_type": "code",
   "execution_count": 11,
   "metadata": {},
   "outputs": [
    {
     "name": "stdout",
     "output_type": "stream",
     "text": [
      "What kind of 🍧 Ice-cream flavour would you like?\n",
      "1. Chocolate\n",
      "2. Vanilla\n",
      "3. Strawberry\n",
      "4. Butterscotch\n",
      "5. Fruit n Nut\n",
      "Flavour not available\n",
      "you have selected chocolate flavour 🍧\n",
      "You have to pay 0 rupees\n"
     ]
    }
   ],
   "source": [
    "#match condition check with icecream example \n",
    "\n",
    "print('What kind of 🍧 Ice-cream flavour would you like?')\n",
    "print(f'1. Chocolate')\n",
    "print(f'2. Vanilla')\n",
    "print(f'3. Strawberry')\n",
    "print(f'4. Butterscotch')\n",
    "print(f'5. Fruit n Nut')\n",
    "choice = input('Enter your choice: ')\n",
    "match choice:\n",
    "    case 'Chocolate':\n",
    "        cost = 35\n",
    "    case 'Vanilla':\n",
    "        cost = 20\n",
    "    case 'Strawberry':\n",
    "        cost = 25\n",
    "    case 'Butterscotch':\n",
    "        cost = 35\n",
    "    case 'Fruit n Nut':\n",
    "        cost = 40\n",
    "    case _:\n",
    "        print('Flavour not available')\n",
    "        cost = 0\n",
    "print(f'you have selected {choice} flavour 🍧')\n",
    "print(f'You have to pay {cost} rupees')    \n",
    "\n",
    "\n",
    "\n"
   ]
  },
  {
   "cell_type": "code",
   "execution_count": null,
   "metadata": {},
   "outputs": [],
   "source": []
  }
 ],
 "metadata": {
  "kernelspec": {
   "display_name": "base",
   "language": "python",
   "name": "python3"
  },
  "language_info": {
   "codemirror_mode": {
    "name": "ipython",
    "version": 3
   },
   "file_extension": ".py",
   "mimetype": "text/x-python",
   "name": "python",
   "nbconvert_exporter": "python",
   "pygments_lexer": "ipython3",
   "version": "3.11.4"
  },
  "orig_nbformat": 4
 },
 "nbformat": 4,
 "nbformat_minor": 2
}

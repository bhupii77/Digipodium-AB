{
 "cells": [
  {
   "cell_type": "markdown",
   "metadata": {},
   "source": [
    "Numpy \n",
    "\n",
    " - create array \n",
    " - maths \n",
    " - operations "
   ]
  },
  {
   "cell_type": "markdown",
   "metadata": {},
   "source": [
    "without numpy doing maths (matrix maths )is very complex in any language "
   ]
  },
  {
   "cell_type": "code",
   "execution_count": 1,
   "metadata": {},
   "outputs": [
    {
     "name": "stdout",
     "output_type": "stream",
     "text": [
      "[[1, 2, 3], [3, 2, 1]]\n"
     ]
    }
   ],
   "source": [
    "x = [[1,2,3],\n",
    "     [3,2,1]]\n",
    "print(x)     \n",
    "\n"
   ]
  },
  {
   "cell_type": "code",
   "execution_count": 1,
   "metadata": {},
   "outputs": [
    {
     "name": "stdout",
     "output_type": "stream",
     "text": [
      "[5, 8, 9, 6, 2, 9]\n"
     ]
    }
   ],
   "source": [
    "x = [5,8,9,6,2,9]\n",
    "print(x)\n",
    "for i in x :\n",
    "    "
   ]
  },
  {
   "cell_type": "code",
   "execution_count": 3,
   "metadata": {},
   "outputs": [],
   "source": [
    "import numpy as np "
   ]
  },
  {
   "cell_type": "code",
   "execution_count": 4,
   "metadata": {},
   "outputs": [
    {
     "name": "stdout",
     "output_type": "stream",
     "text": [
      "[[1 2 3]\n",
      " [3 4 5]]\n",
      "<class 'numpy.ndarray'>\n",
      "(2, 3)\n"
     ]
    }
   ],
   "source": [
    "x = np.array([\n",
    "    [1,2,3],\n",
    "    [3,4,5]\n",
    "])\n",
    "print(x)\n",
    "print(type(x))\n",
    "print(x.shape)"
   ]
  },
  {
   "cell_type": "code",
   "execution_count": 5,
   "metadata": {},
   "outputs": [
    {
     "name": "stdout",
     "output_type": "stream",
     "text": [
      "18\n",
      "[4 6 8]\n",
      "[ 6 12]\n"
     ]
    }
   ],
   "source": [
    "print(x.sum())\n",
    "print(x.sum(axis= 0))\n",
    "print(x.sum(axis = 1))\n"
   ]
  },
  {
   "cell_type": "code",
   "execution_count": 7,
   "metadata": {},
   "outputs": [
    {
     "name": "stdout",
     "output_type": "stream",
     "text": [
      "(3,) 1\n",
      "(3, 2) 2\n",
      "(1, 3, 2) 3\n"
     ]
    }
   ],
   "source": [
    "a = np.array([1,2,3])\n",
    "b = np.array([[1,1],[2,2],[3,3]])\n",
    "c= np.array([[[1,1],[2,2],[3,3]]])\n",
    "\n",
    "print(a.shape , a.ndim)\n",
    "print(b.shape , b.ndim)\n",
    "print(c.shape , c.ndim)\n"
   ]
  },
  {
   "cell_type": "markdown",
   "metadata": {},
   "source": [
    "#matrix creation \n",
    "\n",
    "- sequential \n",
    "    - arrange \n",
    "    - linspace \n",
    "- random \n",
    "    - rand \n",
    "    - randint \n",
    "    - uniform     \n"
   ]
  },
  {
   "cell_type": "code",
   "execution_count": 4,
   "metadata": {},
   "outputs": [
    {
     "name": "stdout",
     "output_type": "stream",
     "text": [
      "[ 1.   1.5  2.   2.5  3.   3.5  4.   4.5  5.   5.5  6.   6.5  7.   7.5\n",
      "  8.   8.5  9.   9.5 10.  10.5]\n",
      "[ 1.          1.76923077  2.53846154  3.30769231  4.07692308  4.84615385\n",
      "  5.61538462  6.38461538  7.15384615  7.92307692  8.69230769  9.46153846\n",
      " 10.23076923 11.        ]\n"
     ]
    }
   ],
   "source": [
    "x = np.arange (1,11,0.5)  #arange tells .5  tells diffrence  \n",
    "print(x)\n",
    "\n",
    "\n",
    "#linspace tells number of points \n",
    "y =np.linspace(1,11,14)\n",
    "print(y)"
   ]
  },
  {
   "cell_type": "code",
   "execution_count": 12,
   "metadata": {},
   "outputs": [
    {
     "data": {
      "text/plain": [
       "array([[ 1. ,  1.5,  2. ,  2.5],\n",
       "       [ 3. ,  3.5,  4. ,  4.5],\n",
       "       [ 5. ,  5.5,  6. ,  6.5],\n",
       "       [ 7. ,  7.5,  8. ,  8.5],\n",
       "       [ 9. ,  9.5, 10. , 10.5]])"
      ]
     },
     "execution_count": 12,
     "metadata": {},
     "output_type": "execute_result"
    }
   ],
   "source": [
    "np.arange(1,11,0.5).reshape(5,4)"
   ]
  },
  {
   "cell_type": "code",
   "execution_count": 15,
   "metadata": {},
   "outputs": [
    {
     "name": "stdout",
     "output_type": "stream",
     "text": [
      "[ 1  2  3  4  5  6  7  8  9 10]\n"
     ]
    }
   ],
   "source": [
    "y = np.arange(1,11)\n",
    "print(y)"
   ]
  },
  {
   "cell_type": "code",
   "execution_count": 16,
   "metadata": {},
   "outputs": [
    {
     "data": {
      "text/plain": [
       "array([[[ 1. ,  1.5],\n",
       "        [ 2. ,  2.5]],\n",
       "\n",
       "       [[ 3. ,  3.5],\n",
       "        [ 4. ,  4.5]],\n",
       "\n",
       "       [[ 5. ,  5.5],\n",
       "        [ 6. ,  6.5]],\n",
       "\n",
       "       [[ 7. ,  7.5],\n",
       "        [ 8. ,  8.5]],\n",
       "\n",
       "       [[ 9. ,  9.5],\n",
       "        [10. , 10.5]]])"
      ]
     },
     "execution_count": 16,
     "metadata": {},
     "output_type": "execute_result"
    }
   ],
   "source": [
    "np.arange(1,11,.5).reshape(5,2,2)"
   ]
  },
  {
   "cell_type": "code",
   "execution_count": 17,
   "metadata": {},
   "outputs": [],
   "source": [
    "x1 = np.array([[1,2,3],[4,5,6]])\n",
    "x2 = np.array([[4,2,3],[2,6,6]])"
   ]
  },
  {
   "cell_type": "code",
   "execution_count": 20,
   "metadata": {},
   "outputs": [
    {
     "name": "stdout",
     "output_type": "stream",
     "text": [
      "[[1 2 3]\n",
      " [4 5 6]]\n",
      "[[4 2 3]\n",
      " [2 6 6]]\n",
      "[[ 5  4  6]\n",
      " [ 6 11 12]]\n",
      "[[-3  0  0]\n",
      " [ 2 -1  0]]\n",
      "[[ 4  4  9]\n",
      " [ 8 30 36]]\n",
      "[[0.25       1.         1.        ]\n",
      " [2.         0.83333333 1.        ]]\n",
      "[[0 1 1]\n",
      " [2 0 1]]\n",
      "[[1 0 0]\n",
      " [0 5 0]]\n",
      "[[    1     4    27]\n",
      " [   16 15625 46656]]\n",
      "[[ True False False]\n",
      " [False  True False]]\n",
      "[[False False False]\n",
      " [ True False False]]\n",
      "[[ True  True  True]\n",
      " [False  True  True]]\n",
      "[[False  True  True]\n",
      " [ True False  True]]\n"
     ]
    }
   ],
   "source": [
    "print(x1)\n",
    "print(x2)\n",
    "print(x1+x2)\n",
    "print(x1 - x2)\n",
    "print(x1*x2)\n",
    "print(x1/x2)\n",
    "print(x1//x2)\n",
    "print(x1%x2)\n",
    "print(x1**x2)\n",
    "\n",
    "#comparison in numpy results in boolean array\n",
    "print(x1<x2)\n",
    "print(x1>x2)\n",
    "print(x1<=x2)\n",
    "print(x1>=x2)\n"
   ]
  },
  {
   "cell_type": "code",
   "execution_count": 21,
   "metadata": {},
   "outputs": [
    {
     "data": {
      "text/plain": [
       "array([[0.88527075, 0.60660946],\n",
       "       [0.45734191, 0.65429971],\n",
       "       [0.20426385, 0.88602389]])"
      ]
     },
     "execution_count": 21,
     "metadata": {},
     "output_type": "execute_result"
    }
   ],
   "source": [
    "a = np.random.rand(3,2)\n",
    "a"
   ]
  },
  {
   "cell_type": "code",
   "execution_count": 22,
   "metadata": {},
   "outputs": [],
   "source": [
    "np.set_printoptions(precision=2)"
   ]
  },
  {
   "cell_type": "code",
   "execution_count": 23,
   "metadata": {},
   "outputs": [
    {
     "data": {
      "text/plain": [
       "array([[9, 0, 9],\n",
       "       [4, 0, 7],\n",
       "       [7, 7, 5]])"
      ]
     },
     "execution_count": 23,
     "metadata": {},
     "output_type": "execute_result"
    }
   ],
   "source": [
    "b = np.random.randint(0 , 10 ,(3,3))\n",
    "b"
   ]
  },
  {
   "cell_type": "code",
   "execution_count": 25,
   "metadata": {},
   "outputs": [
    {
     "data": {
      "text/plain": [
       "array([[2.21, 0.9 , 8.95, 8.72, 3.36],\n",
       "       [8.24, 8.32, 6.19, 9.47, 6.25],\n",
       "       [7.44, 0.08, 0.98, 3.23, 6.14],\n",
       "       [2.11, 1.75, 0.14, 4.79, 5.82],\n",
       "       [4.54, 1.79, 8.69, 3.97, 1.73]])"
      ]
     },
     "execution_count": 25,
     "metadata": {},
     "output_type": "execute_result"
    }
   ],
   "source": [
    "c = np.random.uniform(0 , 10 ,(5,5))\n",
    "c"
   ]
  },
  {
   "cell_type": "code",
   "execution_count": null,
   "metadata": {},
   "outputs": [],
   "source": []
  }
 ],
 "metadata": {
  "kernelspec": {
   "display_name": "base",
   "language": "python",
   "name": "python3"
  },
  "language_info": {
   "codemirror_mode": {
    "name": "ipython",
    "version": 3
   },
   "file_extension": ".py",
   "mimetype": "text/x-python",
   "name": "python",
   "nbconvert_exporter": "python",
   "pygments_lexer": "ipython3",
   "version": "3.11.4"
  }
 },
 "nbformat": 4,
 "nbformat_minor": 2
}

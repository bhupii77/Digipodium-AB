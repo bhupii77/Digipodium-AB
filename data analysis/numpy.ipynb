{
 "cells": [
  {
   "cell_type": "markdown",
   "metadata": {},
   "source": [
    "Numpy \n",
    "\n",
    " - create array \n",
    " - maths \n",
    " - operations "
   ]
  },
  {
   "cell_type": "markdown",
   "metadata": {},
   "source": [
    "without numpy doing maths (matrix maths )is very complex in any language "
   ]
  },
  {
   "cell_type": "code",
   "execution_count": 1,
   "metadata": {},
   "outputs": [
    {
     "name": "stdout",
     "output_type": "stream",
     "text": [
      "[[1, 2, 3], [3, 2, 1]]\n"
     ]
    }
   ],
   "source": [
    "x = [[1,2,3],\n",
    "     [3,2,1]]\n",
    "print(x)     \n",
    "\n"
   ]
  },
  {
   "cell_type": "code",
   "execution_count": 1,
   "metadata": {},
   "outputs": [
    {
     "name": "stdout",
     "output_type": "stream",
     "text": [
      "[5, 8, 9, 6, 2, 9]\n"
     ]
    }
   ],
   "source": [
    "x = [5,8,9,6,2,9]\n",
    "print(x)\n",
    "for i in x :\n",
    "    "
   ]
  },
  {
   "cell_type": "code",
   "execution_count": 2,
   "metadata": {},
   "outputs": [],
   "source": [
    "import numpy as np "
   ]
  },
  {
   "cell_type": "code",
   "execution_count": 4,
   "metadata": {},
   "outputs": [
    {
     "name": "stdout",
     "output_type": "stream",
     "text": [
      "[[1 2 3]\n",
      " [3 4 5]]\n",
      "<class 'numpy.ndarray'>\n",
      "(2, 3)\n"
     ]
    }
   ],
   "source": [
    "x = np.array([\n",
    "    [1,2,3],\n",
    "    [3,4,5]\n",
    "])\n",
    "print(x)\n",
    "print(type(x))\n",
    "print(x.shape)"
   ]
  },
  {
   "cell_type": "code",
   "execution_count": 5,
   "metadata": {},
   "outputs": [
    {
     "name": "stdout",
     "output_type": "stream",
     "text": [
      "18\n",
      "[4 6 8]\n",
      "[ 6 12]\n"
     ]
    }
   ],
   "source": [
    "print(x.sum())\n",
    "print(x.sum(axis= 0))\n",
    "print(x.sum(axis = 1))\n"
   ]
  },
  {
   "cell_type": "code",
   "execution_count": 7,
   "metadata": {},
   "outputs": [
    {
     "name": "stdout",
     "output_type": "stream",
     "text": [
      "(3,) 1\n",
      "(3, 2) 2\n",
      "(1, 3, 2) 3\n"
     ]
    }
   ],
   "source": [
    "a = np.array([1,2,3])\n",
    "b = np.array([[1,1],[2,2],[3,3]])\n",
    "c= np.array([[[1,1],[2,2],[3,3]]])\n",
    "\n",
    "print(a.shape , a.ndim)\n",
    "print(b.shape , b.ndim)\n",
    "print(c.shape , c.ndim)\n"
   ]
  },
  {
   "cell_type": "markdown",
   "metadata": {},
   "source": [
    "#matrix creation \n",
    "\n",
    "- sequential \n",
    "    - arrange \n",
    "    - linspace \n",
    "- random \n",
    "    - rand \n",
    "    - randint \n",
    "    - uniform     \n"
   ]
  },
  {
   "cell_type": "code",
   "execution_count": 4,
   "metadata": {},
   "outputs": [
    {
     "name": "stdout",
     "output_type": "stream",
     "text": [
      "[ 1.   1.5  2.   2.5  3.   3.5  4.   4.5  5.   5.5  6.   6.5  7.   7.5\n",
      "  8.   8.5  9.   9.5 10.  10.5]\n",
      "[ 1.          1.76923077  2.53846154  3.30769231  4.07692308  4.84615385\n",
      "  5.61538462  6.38461538  7.15384615  7.92307692  8.69230769  9.46153846\n",
      " 10.23076923 11.        ]\n"
     ]
    }
   ],
   "source": [
    "x = np.arange (1,11,0.5)  #arange tells .5  tells diffrence  \n",
    "print(x)\n",
    "\n",
    "\n",
    "#linspace tells number of points \n",
    "y =np.linspace(1,11,14)\n",
    "print(y)"
   ]
  },
  {
   "cell_type": "code",
   "execution_count": 12,
   "metadata": {},
   "outputs": [
    {
     "data": {
      "text/plain": [
       "array([[ 1. ,  1.5,  2. ,  2.5],\n",
       "       [ 3. ,  3.5,  4. ,  4.5],\n",
       "       [ 5. ,  5.5,  6. ,  6.5],\n",
       "       [ 7. ,  7.5,  8. ,  8.5],\n",
       "       [ 9. ,  9.5, 10. , 10.5]])"
      ]
     },
     "execution_count": 12,
     "metadata": {},
     "output_type": "execute_result"
    }
   ],
   "source": [
    "np.arange(1,11,0.5).reshape(5,4)"
   ]
  },
  {
   "cell_type": "code",
   "execution_count": 15,
   "metadata": {},
   "outputs": [
    {
     "name": "stdout",
     "output_type": "stream",
     "text": [
      "[ 1  2  3  4  5  6  7  8  9 10]\n"
     ]
    }
   ],
   "source": [
    "y = np.arange(1,11)\n",
    "print(y)"
   ]
  },
  {
   "cell_type": "code",
   "execution_count": 16,
   "metadata": {},
   "outputs": [
    {
     "data": {
      "text/plain": [
       "array([[[ 1. ,  1.5],\n",
       "        [ 2. ,  2.5]],\n",
       "\n",
       "       [[ 3. ,  3.5],\n",
       "        [ 4. ,  4.5]],\n",
       "\n",
       "       [[ 5. ,  5.5],\n",
       "        [ 6. ,  6.5]],\n",
       "\n",
       "       [[ 7. ,  7.5],\n",
       "        [ 8. ,  8.5]],\n",
       "\n",
       "       [[ 9. ,  9.5],\n",
       "        [10. , 10.5]]])"
      ]
     },
     "execution_count": 16,
     "metadata": {},
     "output_type": "execute_result"
    }
   ],
   "source": [
    "np.arange(1,11,.5).reshape(5,2,2)"
   ]
  },
  {
   "cell_type": "code",
   "execution_count": 17,
   "metadata": {},
   "outputs": [],
   "source": [
    "x1 = np.array([[1,2,3],[4,5,6]])\n",
    "x2 = np.array([[4,2,3],[2,6,6]])"
   ]
  },
  {
   "cell_type": "code",
   "execution_count": 20,
   "metadata": {},
   "outputs": [
    {
     "name": "stdout",
     "output_type": "stream",
     "text": [
      "[[1 2 3]\n",
      " [4 5 6]]\n",
      "[[4 2 3]\n",
      " [2 6 6]]\n",
      "[[ 5  4  6]\n",
      " [ 6 11 12]]\n",
      "[[-3  0  0]\n",
      " [ 2 -1  0]]\n",
      "[[ 4  4  9]\n",
      " [ 8 30 36]]\n",
      "[[0.25       1.         1.        ]\n",
      " [2.         0.83333333 1.        ]]\n",
      "[[0 1 1]\n",
      " [2 0 1]]\n",
      "[[1 0 0]\n",
      " [0 5 0]]\n",
      "[[    1     4    27]\n",
      " [   16 15625 46656]]\n",
      "[[ True False False]\n",
      " [False  True False]]\n",
      "[[False False False]\n",
      " [ True False False]]\n",
      "[[ True  True  True]\n",
      " [False  True  True]]\n",
      "[[False  True  True]\n",
      " [ True False  True]]\n"
     ]
    }
   ],
   "source": [
    "print(x1)\n",
    "print(x2)\n",
    "print(x1+x2)\n",
    "print(x1 - x2)\n",
    "print(x1*x2)\n",
    "print(x1/x2)\n",
    "print(x1//x2)\n",
    "print(x1%x2)\n",
    "print(x1**x2)\n",
    "\n",
    "#comparison in numpy results in boolean array\n",
    "print(x1<x2)\n",
    "print(x1>x2)\n",
    "print(x1<=x2)\n",
    "print(x1>=x2)\n"
   ]
  },
  {
   "cell_type": "code",
   "execution_count": 21,
   "metadata": {},
   "outputs": [
    {
     "data": {
      "text/plain": [
       "array([[0.88527075, 0.60660946],\n",
       "       [0.45734191, 0.65429971],\n",
       "       [0.20426385, 0.88602389]])"
      ]
     },
     "execution_count": 21,
     "metadata": {},
     "output_type": "execute_result"
    }
   ],
   "source": [
    "a = np.random.rand(3,2)\n",
    "a"
   ]
  },
  {
   "cell_type": "code",
   "execution_count": 22,
   "metadata": {},
   "outputs": [],
   "source": [
    "np.set_printoptions(precision=2)"
   ]
  },
  {
   "cell_type": "code",
   "execution_count": 23,
   "metadata": {},
   "outputs": [
    {
     "data": {
      "text/plain": [
       "array([[9, 0, 9],\n",
       "       [4, 0, 7],\n",
       "       [7, 7, 5]])"
      ]
     },
     "execution_count": 23,
     "metadata": {},
     "output_type": "execute_result"
    }
   ],
   "source": [
    "b = np.random.randint(0 , 10 ,(3,3))\n",
    "b"
   ]
  },
  {
   "cell_type": "code",
   "execution_count": 25,
   "metadata": {},
   "outputs": [
    {
     "data": {
      "text/plain": [
       "array([[2.21, 0.9 , 8.95, 8.72, 3.36],\n",
       "       [8.24, 8.32, 6.19, 9.47, 6.25],\n",
       "       [7.44, 0.08, 0.98, 3.23, 6.14],\n",
       "       [2.11, 1.75, 0.14, 4.79, 5.82],\n",
       "       [4.54, 1.79, 8.69, 3.97, 1.73]])"
      ]
     },
     "execution_count": 25,
     "metadata": {},
     "output_type": "execute_result"
    }
   ],
   "source": [
    "c = np.random.uniform(0 , 10 ,(5,5))\n",
    "c"
   ]
  },
  {
   "cell_type": "code",
   "execution_count": 3,
   "metadata": {},
   "outputs": [
    {
     "name": "stdout",
     "output_type": "stream",
     "text": [
      "[[10  8 11  7 11 16]\n",
      " [19 15 17  3  8 13]\n",
      " [ 7 16  5 10 10  3]\n",
      " [ 9 18 19  3 18  5]\n",
      " [19 10 11 14 10 18]\n",
      " [12 10 12 15 15  8]]\n"
     ]
    }
   ],
   "source": [
    "z = np.random.randint(0,20,(6,6))\n",
    "print(z)"
   ]
  },
  {
   "cell_type": "code",
   "execution_count": 6,
   "metadata": {},
   "outputs": [
    {
     "name": "stdout",
     "output_type": "stream",
     "text": [
      "row[0] =>  [10  8 11  7 11 16]\n",
      "row[2,3,4] =>\n",
      "  [[ 7 16  5 10 10  3]\n",
      " [ 9 18 19  3 18  5]\n",
      " [19 10 11 14 10 18]]\n"
     ]
    }
   ],
   "source": [
    "print('row[0] => ',z[0])\n",
    "print('row[2,3,4] =>\\n ',z[2:5])\n",
    "print('first')\n"
   ]
  },
  {
   "cell_type": "code",
   "execution_count": 15,
   "metadata": {},
   "outputs": [
    {
     "name": "stdout",
     "output_type": "stream",
     "text": [
      "col 1 =>  [10 19  7  9 19 12]\n",
      "col 5 =>  [11  8 10 18 10 15]\n",
      "col last =>  [16 13  3  5 18  8]\n",
      "col 1,2,3 =>  [[10  8 11  7]\n",
      " [19 15 17  3]\n",
      " [ 7 16  5 10]\n",
      " [ 9 18 19  3]\n",
      " [19 10 11 14]\n",
      " [12 10 12 15]]\n"
     ]
    }
   ],
   "source": [
    "print('col 1 => ', z[:,0])\n",
    "print('col 5 => ', z[ :,4])\n",
    "print('col last => ', z[ :,-1])\n",
    "print('col 1,2,3 => ', z[ :,: 4])"
   ]
  },
  {
   "cell_type": "markdown",
   "metadata": {},
   "source": [
    "maths - statistics ,trignometry "
   ]
  },
  {
   "cell_type": "code",
   "execution_count": 18,
   "metadata": {},
   "outputs": [
    {
     "name": "stdout",
     "output_type": "stream",
     "text": [
      "[[ 5 11 15  1  4 13]\n",
      " [16 17  5 17  8  6]]\n"
     ]
    }
   ],
   "source": [
    "x = np.random.randint(0,20,(2,6))\n",
    "print(x)"
   ]
  },
  {
   "cell_type": "code",
   "execution_count": 21,
   "metadata": {},
   "outputs": [
    {
     "name": "stdout",
     "output_type": "stream",
     "text": [
      "9.833333333333334\n",
      "[ 8.16666667 11.5       ]\n",
      "[10.5 14.  10.   9.   6.   9.5]\n"
     ]
    }
   ],
   "source": [
    "print(x.mean())\n",
    "print(x.mean(axis = 1))\n",
    "print(x.mean(axis = 0))"
   ]
  },
  {
   "cell_type": "code",
   "execution_count": 24,
   "metadata": {},
   "outputs": [
    {
     "name": "stdout",
     "output_type": "stream",
     "text": [
      "[[-0.95892427 -0.99999021  0.65028784  0.84147098 -0.7568025   0.42016704]\n",
      " [-0.28790332 -0.96139749 -0.95892427 -0.96139749  0.98935825 -0.2794155 ]]\n",
      "[[ 0.28366219  0.0044257  -0.75968791  0.54030231 -0.65364362  0.90744678]\n",
      " [-0.95765948 -0.27516334  0.28366219 -0.27516334 -0.14550003  0.96017029]]\n",
      "[[  -3.38051501 -225.95084645   -0.8559934     1.55740772    1.15782128\n",
      "     0.46302113]\n",
      " [   0.30063224    3.49391565   -3.38051501    3.49391565   -6.79971146\n",
      "    -0.29100619]]\n"
     ]
    }
   ],
   "source": [
    "print(np.sin(x))\n",
    "print(np.cos(x))\n",
    "print(np.tan(x))\n"
   ]
  },
  {
   "cell_type": "code",
   "execution_count": 25,
   "metadata": {},
   "outputs": [
    {
     "name": "stdout",
     "output_type": "stream",
     "text": [
      "[[6 9 4]\n",
      " [6 4 3]\n",
      " [9 1 7]]\n",
      "[[15 15  9]\n",
      " [ 5 19 13]\n",
      " [13 11  1]]\n",
      "[[ 90 135  36]\n",
      " [ 30  76  39]\n",
      " [117  11   7]]\n",
      "[[187 305 175]\n",
      " [149 199 109]\n",
      " [231 231 101]]\n",
      "[[187 305 175]\n",
      " [149 199 109]\n",
      " [231 231 101]]\n"
     ]
    }
   ],
   "source": [
    "x = np.random.randint(0,10,(3,3))\n",
    "y = np.random.randint(0,20,(3,3))\n",
    "\n",
    "print(x)\n",
    "print(y)\n",
    "print(x*y)\n",
    "print(x @ y)\n",
    "print(x.dot(y))"
   ]
  },
  {
   "cell_type": "markdown",
   "metadata": {},
   "source": [
    "some utilities"
   ]
  },
  {
   "cell_type": "code",
   "execution_count": 47,
   "metadata": {},
   "outputs": [
    {
     "name": "stdout",
     "output_type": "stream",
     "text": [
      "[[ 0 14  9 11 12  3]\n",
      " [ 6  8 18  2 19  0]]\n"
     ]
    }
   ],
   "source": [
    "x = np.random.randint(0,20,(2,6))\n",
    "print(x)"
   ]
  },
  {
   "cell_type": "code",
   "execution_count": 48,
   "metadata": {},
   "outputs": [
    {
     "data": {
      "text/plain": [
       "array([[ 0,  6],\n",
       "       [14,  8],\n",
       "       [ 9, 18],\n",
       "       [11,  2],\n",
       "       [12, 19],\n",
       "       [ 3,  0]])"
      ]
     },
     "execution_count": 48,
     "metadata": {},
     "output_type": "execute_result"
    }
   ],
   "source": [
    "x.T"
   ]
  },
  {
   "cell_type": "code",
   "execution_count": 49,
   "metadata": {},
   "outputs": [
    {
     "name": "stdout",
     "output_type": "stream",
     "text": [
      "[[ 0 14  9 11]\n",
      " [12  3  6  8]\n",
      " [18  2 19  0]]\n"
     ]
    }
   ],
   "source": [
    "print(x.reshape(3,4))"
   ]
  },
  {
   "cell_type": "code",
   "execution_count": 40,
   "metadata": {},
   "outputs": [
    {
     "data": {
      "text/plain": [
       "array([[11,  8, 14,  6,  0, 13],\n",
       "       [10,  9, 18,  1, 14,  8]])"
      ]
     },
     "execution_count": 40,
     "metadata": {},
     "output_type": "execute_result"
    }
   ],
   "source": [
    "x"
   ]
  },
  {
   "cell_type": "code",
   "execution_count": 52,
   "metadata": {},
   "outputs": [
    {
     "data": {
      "text/plain": [
       "array([[ 0, 14],\n",
       "       [ 0,  0],\n",
       "       [ 0,  0]])"
      ]
     },
     "execution_count": 52,
     "metadata": {},
     "output_type": "execute_result"
    }
   ],
   "source": [
    "x.resize(3,2 , refcheck = False)\n",
    "x"
   ]
  },
  {
   "cell_type": "markdown",
   "metadata": {},
   "source": [
    "data visualization "
   ]
  },
  {
   "cell_type": "code",
   "execution_count": 53,
   "metadata": {},
   "outputs": [],
   "source": [
    "import matplotlib.pyplot as plt"
   ]
  },
  {
   "cell_type": "code",
   "execution_count": 59,
   "metadata": {},
   "outputs": [
    {
     "data": {
      "text/plain": [
       "[<matplotlib.lines.Line2D at 0x23303840ed0>]"
      ]
     },
     "execution_count": 59,
     "metadata": {},
     "output_type": "execute_result"
    },
    {
     "data": {
      "image/png": "[encoded data removed]",
      "text/plain": [
       "<Figure size 640x480 with 1 Axes>"
      ]
     },
     "metadata": {},
     "output_type": "display_data"
    }
   ],
   "source": [
    "t = np.arange(0, 3*np.pi , .1)\n",
    "x = np.sin(t)\n",
    "y = np.cos(t)\n",
    "plt.plot(t,x ,'r+:')\n",
    "plt.plot(t,y ,'go:')"
   ]
  },
  {
   "cell_type": "code",
   "execution_count": 62,
   "metadata": {},
   "outputs": [
    {
     "data": {
      "image/png": "[encoded data removed]",
      "text/plain": [
       "<Figure size 640x480 with 1 Axes>"
      ]
     },
     "metadata": {},
     "output_type": "display_data"
    }
   ],
   "source": [
    "plt.plot(t,x ,'r+:', label = 'cos(t)')\n",
    "plt.plot(t,y ,'go:', label = 'sin(t)')\n",
    "plt.legend()\n",
    "plt.grid()"
   ]
  },
  {
   "cell_type": "code",
   "execution_count": 64,
   "metadata": {},
   "outputs": [
    {
     "data": {
      "image/png": "[encoded data removed]",
      "text/plain": [
       "<Figure size 640x480 with 1 Axes>"
      ]
     },
     "metadata": {},
     "output_type": "display_data"
    }
   ],
   "source": [
    "d = np.random.randn(1000)\n",
    "plt.hist(d , 50)\n",
    "plt.show()"
   ]
  },
  {
   "cell_type": "code",
   "execution_count": 66,
   "metadata": {},
   "outputs": [
    {
     "data": {
      "image/png": "[encoded data removed]",
      "text/plain": [
       "<Figure size 640x480 with 1 Axes>"
      ]
     },
     "metadata": {},
     "output_type": "display_data"
    }
   ],
   "source": [
    "plt.boxplot(x)\n",
    "plt.show()"
   ]
  },
  {
   "cell_type": "code",
   "execution_count": null,
   "metadata": {},
   "outputs": [],
   "source": []
  }
 ],
 "metadata": {
  "kernelspec": {
   "display_name": "base",
   "language": "python",
   "name": "python3"
  },
  "language_info": {
   "codemirror_mode": {
    "name": "ipython",
    "version": 3
   },
   "file_extension": ".py",
   "mimetype": "text/x-python",
   "name": "python",
   "nbconvert_exporter": "python",
   "pygments_lexer": "ipython3",
   "version": "3.11.4"
  }
 },
 "nbformat": 4,
 "nbformat_minor": 2
}

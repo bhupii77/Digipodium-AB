{
 "cells": [
  {
   "cell_type": "markdown",
   "metadata": {},
   "source": [
    "print ()-> output\n",
    "input ()-> input "
   ]
  },
  {
   "cell_type": "code",
   "execution_count": 3,
   "metadata": {},
   "outputs": [],
   "source": [
    "name = \"Bhupendra Singh\"\n",
    "city = \"lucknow\"\n"
   ]
  },
  {
   "cell_type": "code",
   "execution_count": 4,
   "metadata": {},
   "outputs": [
    {
     "name": "stdout",
     "output_type": "stream",
     "text": [
      "Information about me\n",
      "Bhupendra Singh\n",
      "lucknow\n"
     ]
    }
   ],
   "source": [
    "print(\"Information about me\")\n",
    "print(name)\n",
    "print(city)"
   ]
  },
  {
   "cell_type": "code",
   "execution_count": 5,
   "metadata": {},
   "outputs": [
    {
     "name": "stdout",
     "output_type": "stream",
     "text": [
      "Information about me : Bhupendra Singh lucknow\n"
     ]
    }
   ],
   "source": [
    "print('Information about me :', name , city)"
   ]
  },
  {
   "cell_type": "code",
   "execution_count": 6,
   "metadata": {},
   "outputs": [
    {
     "name": "stdout",
     "output_type": "stream",
     "text": [
      "I am Bhupendra Singh and i live in  lucknow\n"
     ]
    }
   ],
   "source": [
    "print('I am', name , 'and i live in ', city)"
   ]
  },
  {
   "cell_type": "markdown",
   "metadata": {},
   "source": [
    "#f= formated string "
   ]
  },
  {
   "cell_type": "code",
   "execution_count": 7,
   "metadata": {},
   "outputs": [
    {
     "name": "stdout",
     "output_type": "stream",
     "text": [
      "I amBhupendra Singhand i live in lucknow\n"
     ]
    }
   ],
   "source": [
    "print(f\"I am{name}and i live in {city}\")"
   ]
  },
  {
   "cell_type": "code",
   "execution_count": 8,
   "metadata": {},
   "outputs": [],
   "source": [
    "n1 = \"Aditi\"\n",
    "c1 = \"Lucknow\"\n",
    "n2, c2 = \"Aditi\", \"Lucknow\"\n",
    "n3, c3 = 'Bhupendra','lucknow'\n",
    "n4, c4 = 'hema','Lucknow'"
   ]
  },
  {
   "cell_type": "code",
   "execution_count": 9,
   "metadata": {},
   "outputs": [
    {
     "name": "stdout",
     "output_type": "stream",
     "text": [
      "AditiLucknow\n",
      "AditiLucknow\n",
      "Bhupendralucknow\n",
      "hemaLucknow\n"
     ]
    }
   ],
   "source": [
    "print(f'{n1}{c1}')\n",
    "print(f'{n2}{c2}')\n",
    "print(f'{n3}{c3}')\n",
    "print(f'{n4}{c4}')"
   ]
  },
  {
   "cell_type": "code",
   "execution_count": 10,
   "metadata": {},
   "outputs": [
    {
     "name": "stdout",
     "output_type": "stream",
     "text": [
      "Aditi          Lucknow\n",
      "Aditi          Lucknow\n",
      "Bhupendra      lucknow\n",
      "hema           Lucknow\n"
     ]
    }
   ],
   "source": [
    "print(f'{n1:15}{c1}')\n",
    "print(f'{n2:15}{c2}')\n",
    "print(f'{n3:15}{c3}')\n",
    "print(f'{n4:15}{c4}')"
   ]
  },
  {
   "cell_type": "markdown",
   "metadata": {},
   "source": [
    "Text alignment\n",
    "< left \n",
    "> right \n",
    "^ centre "
   ]
  },
  {
   "cell_type": "code",
   "execution_count": 11,
   "metadata": {},
   "outputs": [
    {
     "name": "stdout",
     "output_type": "stream",
     "text": [
      "1.     Aditi     Lucknow\n",
      "2.     Aditi     Lucknow\n",
      "3.   Bhupendra   lucknow\n",
      "4.     hema      Lucknow\n"
     ]
    }
   ],
   "source": [
    "print(f'1.{n1:^15}{c1}')\n",
    "print(f'2.{n2:^15}{c2}')\n",
    "print(f'3.{n3:^15}{c3}')\n",
    "print(f'4.{n4:^15}{c4}')"
   ]
  },
  {
   "cell_type": "markdown",
   "metadata": {},
   "source": [
    "SEPRATIONS "
   ]
  },
  {
   "cell_type": "code",
   "execution_count": 12,
   "metadata": {},
   "outputs": [
    {
     "name": "stdout",
     "output_type": "stream",
     "text": [
      "Aditi Aditi Bhupendra hema\n"
     ]
    }
   ],
   "source": [
    "print (n1,n2,n3,n4)"
   ]
  },
  {
   "cell_type": "code",
   "execution_count": 15,
   "metadata": {},
   "outputs": [
    {
     "name": "stdout",
     "output_type": "stream",
     "text": [
      "Aditi\tAditi\tBhupendra\thema\n"
     ]
    }
   ],
   "source": [
    "print(n1,n2,n3,n4,sep='\\t')"
   ]
  },
  {
   "cell_type": "code",
   "execution_count": 16,
   "metadata": {},
   "outputs": [
    {
     "name": "stdout",
     "output_type": "stream",
     "text": [
      "Aditi\n",
      "Aditi\n",
      "Bhupendra\n",
      "hema\n"
     ]
    }
   ],
   "source": [
    "print(n1,n2,n3,n4,sep='\\n')"
   ]
  },
  {
   "cell_type": "code",
   "execution_count": 17,
   "metadata": {},
   "outputs": [
    {
     "name": "stdout",
     "output_type": "stream",
     "text": [
      "Aditi, Aditi, Bhupendra, hema\n"
     ]
    }
   ],
   "source": [
    "print(n1,n2,n3,n4,sep=', ')"
   ]
  },
  {
   "cell_type": "code",
   "execution_count": null,
   "metadata": {},
   "outputs": [],
   "source": []
  }
 ],
 "metadata": {
  "kernelspec": {
   "display_name": "base",
   "language": "python",
   "name": "python3"
  },
  "language_info": {
   "codemirror_mode": {
    "name": "ipython",
    "version": 3
   },
   "file_extension": ".py",
   "mimetype": "text/x-python",
   "name": "python",
   "nbconvert_exporter": "python",
   "pygments_lexer": "ipython3",
   "version": "3.11.4"
  },
  "orig_nbformat": 4
 },
 "nbformat": 4,
 "nbformat_minor": 2
}

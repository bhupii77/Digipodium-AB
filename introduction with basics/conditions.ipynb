{
 "cells": [
  {
   "cell_type": "markdown",
   "metadata": {},
   "source": [
    "Conditions \n",
    "\n",
    "indentation (PeP8)\n",
    "\n",
    "indentation is the way to tell python that block of code is related to a control structure. This is done by indenting the code with a tab or 4 spaces.The indentation is removed when the block ends. \n",
    "\n"
   ]
  },
  {
   "cell_type": "code",
   "execution_count": 4,
   "metadata": {},
   "outputs": [
    {
     "ename": "SyntaxError",
     "evalue": "invalid syntax (3398017689.py, line 1)",
     "output_type": "error",
     "traceback": [
      "\u001b[1;36m  Cell \u001b[1;32mIn[4], line 1\u001b[1;36m\u001b[0m\n\u001b[1;33m    ```\u001b[0m\n\u001b[1;37m    ^\u001b[0m\n\u001b[1;31mSyntaxError\u001b[0m\u001b[1;31m:\u001b[0m invalid syntax\n"
     ]
    }
   ],
   "source": [
    "```\n",
    " if condition:\n",
    "    #code \n",
    "\n",
    "else :\n",
    "    #code \n",
    "\n",
    "elif condition :\n",
    "    #code\n",
    "\n",
    "match value :\n",
    "    case condition:\n",
    "        #code\n",
    "\n",
    "for expression :\n",
    "    #code\n",
    "\n",
    "while condition :\n",
    "    #code  \n",
    "\n",
    "try :\n",
    "    #code\n",
    "                   \n",
    "except:\n",
    "    #code\n",
    "\n",
    "finally:\n",
    "    #code            \n",
    "\n",
    "with expression:\n",
    "    #code\n",
    "\n",
    "def function :\n",
    "    #code \n",
    "\n",
    "class Classname :\n",
    "    #code \n",
    "```"
   ]
  },
  {
   "cell_type": "code",
   "execution_count": 5,
   "metadata": {},
   "outputs": [
    {
     "name": "stdout",
     "output_type": "stream",
     "text": [
      "x is greater than 3\n"
     ]
    }
   ],
   "source": [
    "x = 10 \n",
    "if x > 3:\n",
    "    print('x is greater than 3')\n",
    "\n"
   ]
  },
  {
   "cell_type": "code",
   "execution_count": 6,
   "metadata": {},
   "outputs": [],
   "source": [
    "if x < x -3 :\n",
    "    print('x is less than x -3')"
   ]
  },
  {
   "cell_type": "code",
   "execution_count": 7,
   "metadata": {},
   "outputs": [
    {
     "name": "stdout",
     "output_type": "stream",
     "text": [
      "x is eqaul to 10\n",
      "x is greater than 10\n"
     ]
    }
   ],
   "source": [
    "if x==5:\n",
    "    print('x is equal to 5')\n",
    "if x ==10:\n",
    "    print('x is eqaul to 10')\n",
    "if x>= 10:\n",
    "    print('x is greater than 10')\n",
    "\n"
   ]
  },
  {
   "cell_type": "code",
   "execution_count": 8,
   "metadata": {},
   "outputs": [
    {
     "name": "stdout",
     "output_type": "stream",
     "text": [
      "lo is in x\n"
     ]
    }
   ],
   "source": [
    "x = 'hello'\n",
    "if 'lo'in x :\n",
    "    print('lo is in x')\n",
    "else:\n",
    "    print('lo is not found ')    "
   ]
  },
  {
   "cell_type": "code",
   "execution_count": null,
   "metadata": {},
   "outputs": [],
   "source": []
  },
  {
   "cell_type": "code",
   "execution_count": 32,
   "metadata": {},
   "outputs": [
    {
     "name": "stdout",
     "output_type": "stream",
     "text": [
      "Take your medicine\n"
     ]
    }
   ],
   "source": [
    "had_lunch=input(\"Did you have lunch? (y/n): \")\n",
    "had_medicines = input(\"Did you have taken medicine?(y/n):\")\n",
    "if had_lunch == 'y':\n",
    "    if had_medicines == 'y':\n",
    "     print('very good')\n",
    "\n",
    "    else :\n",
    "     print('Take your medicine')\n",
    "else : \n",
    "    print('Take your lunch')    "
   ]
  },
  {
   "cell_type": "code",
   "execution_count": null,
   "metadata": {},
   "outputs": [],
   "source": [
    "#siya code \n",
    "\n",
    "had_lunch=input(\"Did you have lunch? (y/n): \")\n",
    "had_medicine = input(\"Did you take your medicines? (y/n) : \")\n",
    "if had_lunch== 'y':\n",
    "    if had_medicine == 'y':\n",
    "        print('Very Good')\n",
    "    else:\n",
    "        print('Take your medicines ')    \n",
    "else:\n",
    "    print('Have your lunch or die')\n"
   ]
  },
  {
   "cell_type": "code",
   "execution_count": 38,
   "metadata": {},
   "outputs": [
    {
     "name": "stdout",
     "output_type": "stream",
     "text": [
      "password is empty\n"
     ]
    }
   ],
   "source": [
    "username = input ('enter username')\n",
    "password = input ('enter password')\n",
    "if username :\n",
    "    if password :\n",
    "        if username == 'alex' and password == 'alexa' :\n",
    "            print ('login sucessful✅')\n",
    "        else:\n",
    "            print('login failed❌')   \n",
    "    else :\n",
    "        print('password is empty')\n",
    "else :\n",
    "    print( 'username is empty')                   "
   ]
  },
  {
   "cell_type": "code",
   "execution_count": 35,
   "metadata": {},
   "outputs": [
    {
     "name": "stdout",
     "output_type": "stream",
     "text": [
      " you have to pay 1600.0 rupees\n"
     ]
    }
   ],
   "source": [
    "weight = float(input('how much 🍎 do you want (kg)'))\n",
    "if weight == 1: price = 110\n",
    "elif weight >= 2 and weight <= 5: price = 100 * weight\n",
    "elif weight >= 6: price = 80 * weight\n",
    "print(f' you have to pay {price} rupees')     "
   ]
  },
  {
   "cell_type": "code",
   "execution_count": 40,
   "metadata": {},
   "outputs": [
    {
     "name": "stdout",
     "output_type": "stream",
     "text": [
      "tuesday is my day off\n"
     ]
    }
   ],
   "source": [
    "# match condition check\n",
    "\n",
    "offday = input ('Enter your offday')\n",
    "match (offday):\n",
    "    case 'sunday':\n",
    "        print ('sunday is my day off')\n",
    "    case 'wednesday':\n",
    "        print ('wednesday is my day off') \n",
    "    case 'Saturday':\n",
    "        print('Saturday is my day off') \n",
    "    case 'thursday':\n",
    "        print('thursday is my day off')\n",
    "    case 'Friday':\n",
    "        print('Friday is my day off')\n",
    "    case 'tuesday':\n",
    "        print('tuesday is my day off')\n",
    "    case 'monday':\n",
    "        print('monday is my day off') \n",
    "\n",
    "        \n"
   ]
  },
  {
   "cell_type": "code",
   "execution_count": null,
   "metadata": {},
   "outputs": [],
   "source": [
    "#match condition check with icecream example \n",
    "\n",
    "\n",
    "\n"
   ]
  }
 ],
 "metadata": {
  "kernelspec": {
   "display_name": "base",
   "language": "python",
   "name": "python3"
  },
  "language_info": {
   "codemirror_mode": {
    "name": "ipython",
    "version": 3
   },
   "file_extension": ".py",
   "mimetype": "text/x-python",
   "name": "python",
   "nbconvert_exporter": "python",
   "pygments_lexer": "ipython3",
   "version": "3.11.4"
  },
  "orig_nbformat": 4
 },
 "nbformat": 4,
 "nbformat_minor": 2
}
